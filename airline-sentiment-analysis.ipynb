{
 "cells": [
  {
   "cell_type": "markdown",
   "metadata": {},
   "source": [
    "# **A Bigineer NoteBook on NLP with RNN**\n",
    "# **Kindly Upvote**"
   ]
  },
  {
   "cell_type": "markdown",
   "metadata": {},
   "source": [
    "**Airline Sentiment Analysi**s is a natural language processing (NLP) task that involves identifying the sentiment expressed in a piece of text about an airline. Recurrent Neural Networks (RNNs) are a type of neural network that are particularly well-suited to modeling sequences of data, such as natural language text. In this task, we can use RNNs to classify tweets about airlines into positive, negative or neutral categories.\n",
    "\n",
    "Here is a high-level overview of the steps involved in building an airline sentiment analysis model using RNNs:\n",
    "\n",
    "1. Data Preprocessing: The first step is to prepare the data for training the RNN. This involves cleaning the text data by removing stop words, special characters, and URLs. We also tokenize the text data and convert it into numerical format.\n",
    "\n",
    "2. Feature Extraction: Next, we convert the tokenized text data into a fixed-length vector using techniques such as Word2Vec or GloVe.\n",
    "\n",
    "3. Model Building: We can build a Recurrent Neural Network (RNN) model to classify the sentiment of the airline tweets. We can use architectures such as Long Short-Term Memory (LSTM) or Gated Recurrent Units (GRU) to model the sequence of the text data.\n",
    "\n",
    "4. Model Training: We can train the RNN model on the preprocessed and feature-extracted data. We can use techniques such as cross-validation to evaluate the model's performance.\n",
    "\n",
    "5. Model Testing: We can test the trained model on new, unseen data to evaluate its performance.\n",
    "\n",
    "**Here are the steps in more detail:**\n",
    "\n",
    "**Data Preprocessing:**\n",
    "We start by importing the necessary libraries for data cleaning and tokenization, such as NLTK and spaCy. We then load the airline tweets dataset and perform some initial data exploration. We can also remove any irrelevant or noisy data such as tweets that contain links or mentions of other Twitter users. After that, we perform text cleaning by removing stop words, special characters, and other noise from the text data. Finally, we tokenize the text data and convert it into numerical format for feature extraction.\n",
    "\n",
    "**Feature Extraction:**\n",
    "We can extract features from the tokenized text data using techniques such as Word2Vec or GloVe. These methods convert the text data into fixed-length vectors that can be fed into the RNN model. We can also use techniques such as tf-idf or bag-of-words to represent the text data.\n",
    "\n",
    "**Model Building:**\n",
    "We can build a Recurrent Neural Network (RNN) model to classify the sentiment of the airline tweets. We can use architectures such as Long Short-Term Memory (LSTM) or Gated Recurrent Units (GRU) to model the sequence of the text data. We can also use techniques such as dropout and batch normalization to regularize the model and prevent overfitting.\n",
    "\n",
    "**Model Training:**\n",
    "We can train the RNN model on the preprocessed and feature-extracted data. We can use techniques such as cross-validation to evaluate the model's performance. We can also use techniques such as early stopping to prevent the model from overfitting the training data.\n",
    "\n",
    "**Model Testing:**\n",
    "We can test the trained model on new, unseen data to evaluate its performance. We can use metrics such as accuracy, precision, recall, and F1 score to evaluate the model's performance on the test data. We can also use techniques such as confusion matrix and ROC curve to analyze the model's performance in more detail.\n",
    "\n",
    "In summary, building an airline sentiment analysis model using RNNs involves data preprocessing, feature extraction, model building, model training, and model testing. With the right techniques and tools, we can build a robust and accurate model that can classify the sentiment of airline tweets with high accuracy."
   ]
  },
  {
   "cell_type": "markdown",
   "metadata": {},
   "source": [
    "# **Import the Neccesary Libraries**"
   ]
  },
  {
   "cell_type": "code",
   "execution_count": 1,
   "metadata": {
    "_cell_guid": "b1076dfc-b9ad-4769-8c92-a6c4dae69d19",
    "_uuid": "8f2839f25d086af736a60e9eeb907d3b93b6e0e5",
    "execution": {
     "iopub.execute_input": "2023-03-01T15:53:16.821313Z",
     "iopub.status.busy": "2023-03-01T15:53:16.821009Z",
     "iopub.status.idle": "2023-03-01T15:53:19.698105Z",
     "shell.execute_reply": "2023-03-01T15:53:19.697176Z",
     "shell.execute_reply.started": "2023-03-01T15:53:16.82126Z"
    }
   },
   "outputs": [
    {
     "name": "stderr",
     "output_type": "stream",
     "text": [
      "/opt/conda/lib/python3.6/site-packages/tensorflow/python/framework/dtypes.py:516: FutureWarning: Passing (type, 1) or '1type' as a synonym of type is deprecated; in a future version of numpy, it will be understood as (type, (1,)) / '(1,)type'.\n",
      "  _np_qint8 = np.dtype([(\"qint8\", np.int8, 1)])\n",
      "/opt/conda/lib/python3.6/site-packages/tensorflow/python/framework/dtypes.py:517: FutureWarning: Passing (type, 1) or '1type' as a synonym of type is deprecated; in a future version of numpy, it will be understood as (type, (1,)) / '(1,)type'.\n",
      "  _np_quint8 = np.dtype([(\"quint8\", np.uint8, 1)])\n",
      "/opt/conda/lib/python3.6/site-packages/tensorflow/python/framework/dtypes.py:518: FutureWarning: Passing (type, 1) or '1type' as a synonym of type is deprecated; in a future version of numpy, it will be understood as (type, (1,)) / '(1,)type'.\n",
      "  _np_qint16 = np.dtype([(\"qint16\", np.int16, 1)])\n",
      "/opt/conda/lib/python3.6/site-packages/tensorflow/python/framework/dtypes.py:519: FutureWarning: Passing (type, 1) or '1type' as a synonym of type is deprecated; in a future version of numpy, it will be understood as (type, (1,)) / '(1,)type'.\n",
      "  _np_quint16 = np.dtype([(\"quint16\", np.uint16, 1)])\n",
      "/opt/conda/lib/python3.6/site-packages/tensorflow/python/framework/dtypes.py:520: FutureWarning: Passing (type, 1) or '1type' as a synonym of type is deprecated; in a future version of numpy, it will be understood as (type, (1,)) / '(1,)type'.\n",
      "  _np_qint32 = np.dtype([(\"qint32\", np.int32, 1)])\n",
      "/opt/conda/lib/python3.6/site-packages/tensorflow/python/framework/dtypes.py:525: FutureWarning: Passing (type, 1) or '1type' as a synonym of type is deprecated; in a future version of numpy, it will be understood as (type, (1,)) / '(1,)type'.\n",
      "  np_resource = np.dtype([(\"resource\", np.ubyte, 1)])\n",
      "/opt/conda/lib/python3.6/site-packages/tensorboard/compat/tensorflow_stub/dtypes.py:541: FutureWarning: Passing (type, 1) or '1type' as a synonym of type is deprecated; in a future version of numpy, it will be understood as (type, (1,)) / '(1,)type'.\n",
      "  _np_qint8 = np.dtype([(\"qint8\", np.int8, 1)])\n",
      "/opt/conda/lib/python3.6/site-packages/tensorboard/compat/tensorflow_stub/dtypes.py:542: FutureWarning: Passing (type, 1) or '1type' as a synonym of type is deprecated; in a future version of numpy, it will be understood as (type, (1,)) / '(1,)type'.\n",
      "  _np_quint8 = np.dtype([(\"quint8\", np.uint8, 1)])\n",
      "/opt/conda/lib/python3.6/site-packages/tensorboard/compat/tensorflow_stub/dtypes.py:543: FutureWarning: Passing (type, 1) or '1type' as a synonym of type is deprecated; in a future version of numpy, it will be understood as (type, (1,)) / '(1,)type'.\n",
      "  _np_qint16 = np.dtype([(\"qint16\", np.int16, 1)])\n",
      "/opt/conda/lib/python3.6/site-packages/tensorboard/compat/tensorflow_stub/dtypes.py:544: FutureWarning: Passing (type, 1) or '1type' as a synonym of type is deprecated; in a future version of numpy, it will be understood as (type, (1,)) / '(1,)type'.\n",
      "  _np_quint16 = np.dtype([(\"quint16\", np.uint16, 1)])\n",
      "/opt/conda/lib/python3.6/site-packages/tensorboard/compat/tensorflow_stub/dtypes.py:545: FutureWarning: Passing (type, 1) or '1type' as a synonym of type is deprecated; in a future version of numpy, it will be understood as (type, (1,)) / '(1,)type'.\n",
      "  _np_qint32 = np.dtype([(\"qint32\", np.int32, 1)])\n",
      "/opt/conda/lib/python3.6/site-packages/tensorboard/compat/tensorflow_stub/dtypes.py:550: FutureWarning: Passing (type, 1) or '1type' as a synonym of type is deprecated; in a future version of numpy, it will be understood as (type, (1,)) / '(1,)type'.\n",
      "  np_resource = np.dtype([(\"resource\", np.ubyte, 1)])\n",
      "Using TensorFlow backend.\n"
     ]
    }
   ],
   "source": [
    "import re\n",
    "import warnings\n",
    "import itertools\n",
    "import numpy as np \n",
    "import pandas as pd \n",
    "import seaborn as sns\n",
    "import tensorflow as tf\n",
    "import matplotlib.pyplot as plt\n",
    "from keras.preprocessing.text import Tokenizer\n",
    "from keras.preprocessing.sequence import pad_sequences\n",
    "from sklearn.model_selection import train_test_split\n",
    "from sklearn.metrics import confusion_matrix\n",
    "warnings.filterwarnings(\"ignore\", category=FutureWarning)"
   ]
  },
  {
   "cell_type": "markdown",
   "metadata": {},
   "source": [
    "# Reading the Dataset"
   ]
  },
  {
   "cell_type": "code",
   "execution_count": 2,
   "metadata": {
    "_cell_guid": "79c7e3d0-c299-4dcb-8224-4455121ee9b0",
    "_uuid": "d629ff2d2480ee46fbb7e2d37f6b5fab8052498a",
    "execution": {
     "iopub.execute_input": "2023-03-01T15:53:19.700482Z",
     "iopub.status.busy": "2023-03-01T15:53:19.700166Z",
     "iopub.status.idle": "2023-03-01T15:53:19.945383Z",
     "shell.execute_reply": "2023-03-01T15:53:19.944242Z",
     "shell.execute_reply.started": "2023-03-01T15:53:19.700432Z"
    }
   },
   "outputs": [
    {
     "name": "stderr",
     "output_type": "stream",
     "text": [
      "/opt/conda/lib/python3.6/site-packages/ipykernel_launcher.py:3: SettingWithCopyWarning: \n",
      "A value is trying to be set on a copy of a slice from a DataFrame.\n",
      "Try using .loc[row_indexer,col_indexer] = value instead\n",
      "\n",
      "See the caveats in the documentation: http://pandas.pydata.org/pandas-docs/stable/indexing.html#indexing-view-versus-copy\n",
      "  This is separate from the ipykernel package so we can avoid doing imports until\n"
     ]
    }
   ],
   "source": [
    "data = pd.read_csv(\"../input/Tweets.csv\")\n",
    "df = data[[\"text\",\"airline_sentiment\"]]\n",
    "df['text'] = df['text'].map(lambda x: x.lstrip('@VirginAmerica@UnitedAir@Southwestairline@DeltaAir@USAirways@American').rstrip('@'))"
   ]
  },
  {
   "cell_type": "code",
   "execution_count": 3,
   "metadata": {
    "execution": {
     "iopub.execute_input": "2023-03-01T15:53:19.947344Z",
     "iopub.status.busy": "2023-03-01T15:53:19.946846Z",
     "iopub.status.idle": "2023-03-01T15:53:19.975854Z",
     "shell.execute_reply": "2023-03-01T15:53:19.974981Z",
     "shell.execute_reply.started": "2023-03-01T15:53:19.947287Z"
    }
   },
   "outputs": [
    {
     "data": {
      "text/html": [
       "<div>\n",
       "<style scoped>\n",
       "    .dataframe tbody tr th:only-of-type {\n",
       "        vertical-align: middle;\n",
       "    }\n",
       "\n",
       "    .dataframe tbody tr th {\n",
       "        vertical-align: top;\n",
       "    }\n",
       "\n",
       "    .dataframe thead th {\n",
       "        text-align: right;\n",
       "    }\n",
       "</style>\n",
       "<table border=\"1\" class=\"dataframe\">\n",
       "  <thead>\n",
       "    <tr style=\"text-align: right;\">\n",
       "      <th></th>\n",
       "      <th>text</th>\n",
       "      <th>airline_sentiment</th>\n",
       "    </tr>\n",
       "  </thead>\n",
       "  <tbody>\n",
       "    <tr>\n",
       "      <th>0</th>\n",
       "      <td>What @dhepburn said.</td>\n",
       "      <td>neutral</td>\n",
       "    </tr>\n",
       "    <tr>\n",
       "      <th>1</th>\n",
       "      <td>plus you've added commercials to the experien...</td>\n",
       "      <td>positive</td>\n",
       "    </tr>\n",
       "    <tr>\n",
       "      <th>2</th>\n",
       "      <td>I didn't today... Must mean I need to take an...</td>\n",
       "      <td>neutral</td>\n",
       "    </tr>\n",
       "    <tr>\n",
       "      <th>3</th>\n",
       "      <td>it's really aggressive to blast obnoxious \"en...</td>\n",
       "      <td>negative</td>\n",
       "    </tr>\n",
       "    <tr>\n",
       "      <th>4</th>\n",
       "      <td>and it's a really big bad thing about it</td>\n",
       "      <td>negative</td>\n",
       "    </tr>\n",
       "    <tr>\n",
       "      <th>5</th>\n",
       "      <td>seriously would pay $30 a flight for seats th...</td>\n",
       "      <td>negative</td>\n",
       "    </tr>\n",
       "    <tr>\n",
       "      <th>6</th>\n",
       "      <td>yes, nearly every time I fly VX this “ear wor...</td>\n",
       "      <td>positive</td>\n",
       "    </tr>\n",
       "    <tr>\n",
       "      <th>7</th>\n",
       "      <td>Really missed a prime opportunity for Men Wit...</td>\n",
       "      <td>neutral</td>\n",
       "    </tr>\n",
       "    <tr>\n",
       "      <th>8</th>\n",
       "      <td>virginamerica Well, I didn't…but NOW I DO! :-D</td>\n",
       "      <td>positive</td>\n",
       "    </tr>\n",
       "    <tr>\n",
       "      <th>9</th>\n",
       "      <td>it was amazing, and arrived an hour early. Yo...</td>\n",
       "      <td>positive</td>\n",
       "    </tr>\n",
       "    <tr>\n",
       "      <th>10</th>\n",
       "      <td>did you know that suicide is the second leadi...</td>\n",
       "      <td>neutral</td>\n",
       "    </tr>\n",
       "    <tr>\n",
       "      <th>11</th>\n",
       "      <td>I &amp;lt;3 pretty graphics. so much better than ...</td>\n",
       "      <td>positive</td>\n",
       "    </tr>\n",
       "    <tr>\n",
       "      <th>12</th>\n",
       "      <td>This is such a great deal! Already thinking a...</td>\n",
       "      <td>positive</td>\n",
       "    </tr>\n",
       "    <tr>\n",
       "      <th>13</th>\n",
       "      <td>@virginmedia I'm flying your #fabulous #Seduc...</td>\n",
       "      <td>positive</td>\n",
       "    </tr>\n",
       "    <tr>\n",
       "      <th>14</th>\n",
       "      <td>Thanks!</td>\n",
       "      <td>positive</td>\n",
       "    </tr>\n",
       "    <tr>\n",
       "      <th>15</th>\n",
       "      <td>SFO-PDX schedule is still MIA.</td>\n",
       "      <td>negative</td>\n",
       "    </tr>\n",
       "    <tr>\n",
       "      <th>16</th>\n",
       "      <td>So excited for my first cross country flight ...</td>\n",
       "      <td>positive</td>\n",
       "    </tr>\n",
       "    <tr>\n",
       "      <th>17</th>\n",
       "      <td>I flew from NYC to SFO last week and couldn'...</td>\n",
       "      <td>negative</td>\n",
       "    </tr>\n",
       "    <tr>\n",
       "      <th>18</th>\n",
       "      <td>I ❤️ flying @VirginAmerica. ☺️👍</td>\n",
       "      <td>positive</td>\n",
       "    </tr>\n",
       "    <tr>\n",
       "      <th>19</th>\n",
       "      <td>you know what would be amazingly awesome? BOS...</td>\n",
       "      <td>positive</td>\n",
       "    </tr>\n",
       "    <tr>\n",
       "      <th>20</th>\n",
       "      <td>why are your first fares in May over three ti...</td>\n",
       "      <td>negative</td>\n",
       "    </tr>\n",
       "    <tr>\n",
       "      <th>21</th>\n",
       "      <td>I love this graphic. http://t.co/UT5GrRwAaA</td>\n",
       "      <td>positive</td>\n",
       "    </tr>\n",
       "    <tr>\n",
       "      <th>22</th>\n",
       "      <td>I love the hipster innovation. You are a feel...</td>\n",
       "      <td>positive</td>\n",
       "    </tr>\n",
       "    <tr>\n",
       "      <th>23</th>\n",
       "      <td>will you be making BOS&amp;gt;LAS non stop perman...</td>\n",
       "      <td>neutral</td>\n",
       "    </tr>\n",
       "    <tr>\n",
       "      <th>24</th>\n",
       "      <td>you guys messed up my seating.. I reserved se...</td>\n",
       "      <td>negative</td>\n",
       "    </tr>\n",
       "    <tr>\n",
       "      <th>25</th>\n",
       "      <td>status match program.  I applied and it's bee...</td>\n",
       "      <td>negative</td>\n",
       "    </tr>\n",
       "    <tr>\n",
       "      <th>26</th>\n",
       "      <td>What happened 2 ur vegan food options?! At le...</td>\n",
       "      <td>negative</td>\n",
       "    </tr>\n",
       "    <tr>\n",
       "      <th>27</th>\n",
       "      <td>do you miss me? Don't worry we'll be together...</td>\n",
       "      <td>neutral</td>\n",
       "    </tr>\n",
       "    <tr>\n",
       "      <th>28</th>\n",
       "      <td>amazing to me that we can't get any cold air ...</td>\n",
       "      <td>negative</td>\n",
       "    </tr>\n",
       "    <tr>\n",
       "      <th>29</th>\n",
       "      <td>LAX to EWR - Middle seat on a red eye. Such a...</td>\n",
       "      <td>neutral</td>\n",
       "    </tr>\n",
       "    <tr>\n",
       "      <th>...</th>\n",
       "      <td>...</td>\n",
       "      <td>...</td>\n",
       "    </tr>\n",
       "    <tr>\n",
       "      <th>14610</th>\n",
       "      <td>I understand the weather issue but you can't ...</td>\n",
       "      <td>negative</td>\n",
       "    </tr>\n",
       "    <tr>\n",
       "      <th>14611</th>\n",
       "      <td>guarantee no retribution? If so, I'd be glad ...</td>\n",
       "      <td>neutral</td>\n",
       "    </tr>\n",
       "    <tr>\n",
       "      <th>14612</th>\n",
       "      <td>a friend is having flight Cancelled Flightlat...</td>\n",
       "      <td>negative</td>\n",
       "    </tr>\n",
       "    <tr>\n",
       "      <th>14613</th>\n",
       "      <td>I used the \"call back\" feature with an operat...</td>\n",
       "      <td>negative</td>\n",
       "    </tr>\n",
       "    <tr>\n",
       "      <th>14614</th>\n",
       "      <td>I need to be at work tomorrow at 8am, therefo...</td>\n",
       "      <td>negative</td>\n",
       "    </tr>\n",
       "    <tr>\n",
       "      <th>14615</th>\n",
       "      <td>ugh Dump us in dfw w/no luggage then Cancell...</td>\n",
       "      <td>negative</td>\n",
       "    </tr>\n",
       "    <tr>\n",
       "      <th>14616</th>\n",
       "      <td>Cancelled Flights my flight, doesn't send an ...</td>\n",
       "      <td>negative</td>\n",
       "    </tr>\n",
       "    <tr>\n",
       "      <th>14617</th>\n",
       "      <td>DMing you now! Big thanks.</td>\n",
       "      <td>positive</td>\n",
       "    </tr>\n",
       "    <tr>\n",
       "      <th>14618</th>\n",
       "      <td>3078 is overweight so you pull 2 dozen passen...</td>\n",
       "      <td>negative</td>\n",
       "    </tr>\n",
       "    <tr>\n",
       "      <th>14619</th>\n",
       "      <td>I love your company and your staff is amazing...</td>\n",
       "      <td>positive</td>\n",
       "    </tr>\n",
       "    <tr>\n",
       "      <th>14620</th>\n",
       "      <td>I wait 2+ hrs for CS to call me back re why  ...</td>\n",
       "      <td>negative</td>\n",
       "    </tr>\n",
       "    <tr>\n",
       "      <th>14621</th>\n",
       "      <td>I've been on hold for 55 mins about my Cancel...</td>\n",
       "      <td>negative</td>\n",
       "    </tr>\n",
       "    <tr>\n",
       "      <th>14622</th>\n",
       "      <td>I just need a place to sleep when I land witho...</td>\n",
       "      <td>negative</td>\n",
       "    </tr>\n",
       "    <tr>\n",
       "      <th>14623</th>\n",
       "      <td>Love the new planes for the JFK-LAX run.  May...</td>\n",
       "      <td>positive</td>\n",
       "    </tr>\n",
       "    <tr>\n",
       "      <th>14624</th>\n",
       "      <td>Call me Chairman, or call me Emerald. After w...</td>\n",
       "      <td>negative</td>\n",
       "    </tr>\n",
       "    <tr>\n",
       "      <th>14625</th>\n",
       "      <td>Flight 236 was great. Fantastic cabin crew. A...</td>\n",
       "      <td>positive</td>\n",
       "    </tr>\n",
       "    <tr>\n",
       "      <th>14626</th>\n",
       "      <td>Flight 953 NYC-Buenos Aires has been delay si...</td>\n",
       "      <td>negative</td>\n",
       "    </tr>\n",
       "    <tr>\n",
       "      <th>14627</th>\n",
       "      <td>Flight Cancelled Flightled, can't go home unt...</td>\n",
       "      <td>negative</td>\n",
       "    </tr>\n",
       "    <tr>\n",
       "      <th>14628</th>\n",
       "      <td>Thank you. “@AmericanAir: @jlhalldc Customer R...</td>\n",
       "      <td>positive</td>\n",
       "    </tr>\n",
       "    <tr>\n",
       "      <th>14629</th>\n",
       "      <td>How do I change my flight if the phone system...</td>\n",
       "      <td>negative</td>\n",
       "    </tr>\n",
       "    <tr>\n",
       "      <th>14630</th>\n",
       "      <td>Thanks! He is.</td>\n",
       "      <td>positive</td>\n",
       "    </tr>\n",
       "    <tr>\n",
       "      <th>14631</th>\n",
       "      <td>thx for nothing on getting us out of the coun...</td>\n",
       "      <td>negative</td>\n",
       "    </tr>\n",
       "    <tr>\n",
       "      <th>14632</th>\n",
       "      <td>“@AmericanAir: @TilleyMonsta George, that does...</td>\n",
       "      <td>neutral</td>\n",
       "    </tr>\n",
       "    <tr>\n",
       "      <th>14633</th>\n",
       "      <td>my flight was Cancelled Flightled, leaving to...</td>\n",
       "      <td>negative</td>\n",
       "    </tr>\n",
       "    <tr>\n",
       "      <th>14634</th>\n",
       "      <td>right on cue with the delays👌</td>\n",
       "      <td>negative</td>\n",
       "    </tr>\n",
       "    <tr>\n",
       "      <th>14635</th>\n",
       "      <td>thank you we got on a different flight to Chi...</td>\n",
       "      <td>positive</td>\n",
       "    </tr>\n",
       "    <tr>\n",
       "      <th>14636</th>\n",
       "      <td>leaving over 20 minutes Late Flight. No warni...</td>\n",
       "      <td>negative</td>\n",
       "    </tr>\n",
       "    <tr>\n",
       "      <th>14637</th>\n",
       "      <td>Please bring American Airlines to #BlackBerry10</td>\n",
       "      <td>neutral</td>\n",
       "    </tr>\n",
       "    <tr>\n",
       "      <th>14638</th>\n",
       "      <td>you have my money, you change my flight, and ...</td>\n",
       "      <td>negative</td>\n",
       "    </tr>\n",
       "    <tr>\n",
       "      <th>14639</th>\n",
       "      <td>we have 8 ppl so we need 2 know how many seat...</td>\n",
       "      <td>neutral</td>\n",
       "    </tr>\n",
       "  </tbody>\n",
       "</table>\n",
       "<p>14640 rows × 2 columns</p>\n",
       "</div>"
      ],
      "text/plain": [
       "                                                    text airline_sentiment\n",
       "0                                   What @dhepburn said.           neutral\n",
       "1       plus you've added commercials to the experien...          positive\n",
       "2       I didn't today... Must mean I need to take an...           neutral\n",
       "3       it's really aggressive to blast obnoxious \"en...          negative\n",
       "4               and it's a really big bad thing about it          negative\n",
       "5       seriously would pay $30 a flight for seats th...          negative\n",
       "6       yes, nearly every time I fly VX this “ear wor...          positive\n",
       "7       Really missed a prime opportunity for Men Wit...           neutral\n",
       "8         virginamerica Well, I didn't…but NOW I DO! :-D          positive\n",
       "9       it was amazing, and arrived an hour early. Yo...          positive\n",
       "10      did you know that suicide is the second leadi...           neutral\n",
       "11      I &lt;3 pretty graphics. so much better than ...          positive\n",
       "12      This is such a great deal! Already thinking a...          positive\n",
       "13      @virginmedia I'm flying your #fabulous #Seduc...          positive\n",
       "14                                               Thanks!          positive\n",
       "15                        SFO-PDX schedule is still MIA.          negative\n",
       "16      So excited for my first cross country flight ...          positive\n",
       "17       I flew from NYC to SFO last week and couldn'...          negative\n",
       "18                       I ❤️ flying @VirginAmerica. ☺️👍          positive\n",
       "19      you know what would be amazingly awesome? BOS...          positive\n",
       "20      why are your first fares in May over three ti...          negative\n",
       "21           I love this graphic. http://t.co/UT5GrRwAaA          positive\n",
       "22      I love the hipster innovation. You are a feel...          positive\n",
       "23      will you be making BOS&gt;LAS non stop perman...           neutral\n",
       "24      you guys messed up my seating.. I reserved se...          negative\n",
       "25      status match program.  I applied and it's bee...          negative\n",
       "26      What happened 2 ur vegan food options?! At le...          negative\n",
       "27      do you miss me? Don't worry we'll be together...           neutral\n",
       "28      amazing to me that we can't get any cold air ...          negative\n",
       "29      LAX to EWR - Middle seat on a red eye. Such a...           neutral\n",
       "...                                                  ...               ...\n",
       "14610   I understand the weather issue but you can't ...          negative\n",
       "14611   guarantee no retribution? If so, I'd be glad ...           neutral\n",
       "14612   a friend is having flight Cancelled Flightlat...          negative\n",
       "14613   I used the \"call back\" feature with an operat...          negative\n",
       "14614   I need to be at work tomorrow at 8am, therefo...          negative\n",
       "14615    ugh Dump us in dfw w/no luggage then Cancell...          negative\n",
       "14616   Cancelled Flights my flight, doesn't send an ...          negative\n",
       "14617                         DMing you now! Big thanks.          positive\n",
       "14618   3078 is overweight so you pull 2 dozen passen...          negative\n",
       "14619   I love your company and your staff is amazing...          positive\n",
       "14620   I wait 2+ hrs for CS to call me back re why  ...          negative\n",
       "14621   I've been on hold for 55 mins about my Cancel...          negative\n",
       "14622  I just need a place to sleep when I land witho...          negative\n",
       "14623   Love the new planes for the JFK-LAX run.  May...          positive\n",
       "14624   Call me Chairman, or call me Emerald. After w...          negative\n",
       "14625   Flight 236 was great. Fantastic cabin crew. A...          positive\n",
       "14626   Flight 953 NYC-Buenos Aires has been delay si...          negative\n",
       "14627   Flight Cancelled Flightled, can't go home unt...          negative\n",
       "14628  Thank you. “@AmericanAir: @jlhalldc Customer R...          positive\n",
       "14629   How do I change my flight if the phone system...          negative\n",
       "14630                                     Thanks! He is.          positive\n",
       "14631   thx for nothing on getting us out of the coun...          negative\n",
       "14632  “@AmericanAir: @TilleyMonsta George, that does...           neutral\n",
       "14633   my flight was Cancelled Flightled, leaving to...          negative\n",
       "14634                      right on cue with the delays👌          negative\n",
       "14635   thank you we got on a different flight to Chi...          positive\n",
       "14636   leaving over 20 minutes Late Flight. No warni...          negative\n",
       "14637    Please bring American Airlines to #BlackBerry10           neutral\n",
       "14638   you have my money, you change my flight, and ...          negative\n",
       "14639   we have 8 ppl so we need 2 know how many seat...           neutral\n",
       "\n",
       "[14640 rows x 2 columns]"
      ]
     },
     "execution_count": 3,
     "metadata": {},
     "output_type": "execute_result"
    }
   ],
   "source": [
    "df"
   ]
  },
  {
   "cell_type": "code",
   "execution_count": 4,
   "metadata": {
    "execution": {
     "iopub.execute_input": "2023-03-01T15:53:19.97772Z",
     "iopub.status.busy": "2023-03-01T15:53:19.97722Z",
     "iopub.status.idle": "2023-03-01T15:53:20.283425Z",
     "shell.execute_reply": "2023-03-01T15:53:20.282588Z",
     "shell.execute_reply.started": "2023-03-01T15:53:19.977666Z"
    }
   },
   "outputs": [
    {
     "data": {
      "image/png": "[encoded data removed]",
      "text/plain": [
       "<Figure size 432x288 with 1 Axes>"
      ]
     },
     "metadata": {
      "needs_background": "light"
     },
     "output_type": "display_data"
    }
   ],
   "source": [
    "sns.countplot(data.airline);"
   ]
  },
  {
   "cell_type": "code",
   "execution_count": 5,
   "metadata": {
    "execution": {
     "iopub.execute_input": "2023-03-01T15:53:20.28699Z",
     "iopub.status.busy": "2023-03-01T15:53:20.286502Z",
     "iopub.status.idle": "2023-03-01T15:53:20.520931Z",
     "shell.execute_reply": "2023-03-01T15:53:20.520142Z",
     "shell.execute_reply.started": "2023-03-01T15:53:20.286936Z"
    }
   },
   "outputs": [
    {
     "name": "stderr",
     "output_type": "stream",
     "text": [
      "/opt/conda/lib/python3.6/site-packages/ipykernel_launcher.py:2: SettingWithCopyWarning: \n",
      "A value is trying to be set on a copy of a slice from a DataFrame.\n",
      "Try using .loc[row_indexer,col_indexer] = value instead\n",
      "\n",
      "See the caveats in the documentation: http://pandas.pydata.org/pandas-docs/stable/indexing.html#indexing-view-versus-copy\n",
      "  \n",
      "/opt/conda/lib/python3.6/site-packages/ipykernel_launcher.py:3: SettingWithCopyWarning: \n",
      "A value is trying to be set on a copy of a slice from a DataFrame.\n",
      "Try using .loc[row_indexer,col_indexer] = value instead\n",
      "\n",
      "See the caveats in the documentation: http://pandas.pydata.org/pandas-docs/stable/indexing.html#indexing-view-versus-copy\n",
      "  This is separate from the ipykernel package so we can avoid doing imports until\n"
     ]
    }
   ],
   "source": [
    "df = df[df.airline_sentiment!=\"neutral\"] # To remove neutral responses\n",
    "df['text'] = df['text'].apply(lambda x: x.lower()) # To lower \n",
    "df['text'] = df['text'].apply((lambda x: re.sub('[^a-zA-z0-9\\s]','',x))) # To keep numbers and strings only"
   ]
  },
  {
   "cell_type": "code",
   "execution_count": 6,
   "metadata": {
    "execution": {
     "iopub.execute_input": "2023-03-01T15:53:20.52292Z",
     "iopub.status.busy": "2023-03-01T15:53:20.522449Z",
     "iopub.status.idle": "2023-03-01T15:53:20.535567Z",
     "shell.execute_reply": "2023-03-01T15:53:20.534571Z",
     "shell.execute_reply.started": "2023-03-01T15:53:20.522869Z"
    }
   },
   "outputs": [
    {
     "data": {
      "text/html": [
       "<div>\n",
       "<style scoped>\n",
       "    .dataframe tbody tr th:only-of-type {\n",
       "        vertical-align: middle;\n",
       "    }\n",
       "\n",
       "    .dataframe tbody tr th {\n",
       "        vertical-align: top;\n",
       "    }\n",
       "\n",
       "    .dataframe thead th {\n",
       "        text-align: right;\n",
       "    }\n",
       "</style>\n",
       "<table border=\"1\" class=\"dataframe\">\n",
       "  <thead>\n",
       "    <tr style=\"text-align: right;\">\n",
       "      <th></th>\n",
       "      <th>text</th>\n",
       "      <th>airline_sentiment</th>\n",
       "    </tr>\n",
       "  </thead>\n",
       "  <tbody>\n",
       "    <tr>\n",
       "      <th>1</th>\n",
       "      <td>plus youve added commercials to the experienc...</td>\n",
       "      <td>positive</td>\n",
       "    </tr>\n",
       "    <tr>\n",
       "      <th>3</th>\n",
       "      <td>its really aggressive to blast obnoxious ente...</td>\n",
       "      <td>negative</td>\n",
       "    </tr>\n",
       "    <tr>\n",
       "      <th>4</th>\n",
       "      <td>and its a really big bad thing about it</td>\n",
       "      <td>negative</td>\n",
       "    </tr>\n",
       "    <tr>\n",
       "      <th>5</th>\n",
       "      <td>seriously would pay 30 a flight for seats tha...</td>\n",
       "      <td>negative</td>\n",
       "    </tr>\n",
       "    <tr>\n",
       "      <th>6</th>\n",
       "      <td>yes nearly every time i fly vx this ear worm ...</td>\n",
       "      <td>positive</td>\n",
       "    </tr>\n",
       "  </tbody>\n",
       "</table>\n",
       "</div>"
      ],
      "text/plain": [
       "                                                text airline_sentiment\n",
       "1   plus youve added commercials to the experienc...          positive\n",
       "3   its really aggressive to blast obnoxious ente...          negative\n",
       "4            and its a really big bad thing about it          negative\n",
       "5   seriously would pay 30 a flight for seats tha...          negative\n",
       "6   yes nearly every time i fly vx this ear worm ...          positive"
      ]
     },
     "execution_count": 6,
     "metadata": {},
     "output_type": "execute_result"
    }
   ],
   "source": [
    "df.head(5) #Quick Look "
   ]
  },
  {
   "cell_type": "code",
   "execution_count": 7,
   "metadata": {
    "execution": {
     "iopub.execute_input": "2023-03-01T15:53:20.537274Z",
     "iopub.status.busy": "2023-03-01T15:53:20.536801Z",
     "iopub.status.idle": "2023-03-01T15:53:20.737759Z",
     "shell.execute_reply": "2023-03-01T15:53:20.736707Z",
     "shell.execute_reply.started": "2023-03-01T15:53:20.537062Z"
    }
   },
   "outputs": [
    {
     "data": {
      "image/png": "[encoded data removed]",
      "text/plain": [
       "<Figure size 432x288 with 1 Axes>"
      ]
     },
     "metadata": {
      "needs_background": "light"
     },
     "output_type": "display_data"
    }
   ],
   "source": [
    "sns.countplot(df.airline_sentiment);#Mostly Negative Reviews(Class Imbalance found) "
   ]
  },
  {
   "cell_type": "markdown",
   "metadata": {},
   "source": [
    "This next line of code drops the first 5000 rows where the value of the \"airline_sentiment\" column is \"negative\" from a pandas DataFrame called \"df\", due to unequal amount of negatives to positives\n",
    "\n",
    "In summary, the code drops the first 5000 rows where the value of the \"airline_sentiment\" column is \"negative\" from the original DataFrame \"df\" and returns a new DataFrame without those rows."
   ]
  },
  {
   "cell_type": "code",
   "execution_count": 8,
   "metadata": {
    "execution": {
     "iopub.execute_input": "2023-03-01T15:53:20.739655Z",
     "iopub.status.busy": "2023-03-01T15:53:20.739359Z",
     "iopub.status.idle": "2023-03-01T15:53:20.753751Z",
     "shell.execute_reply": "2023-03-01T15:53:20.752445Z",
     "shell.execute_reply.started": "2023-03-01T15:53:20.73961Z"
    }
   },
   "outputs": [],
   "source": [
    "df = df.drop(df[df.airline_sentiment == \"negative\"].iloc[:5000].index)"
   ]
  },
  {
   "cell_type": "code",
   "execution_count": 9,
   "metadata": {
    "execution": {
     "iopub.execute_input": "2023-03-01T15:53:20.756316Z",
     "iopub.status.busy": "2023-03-01T15:53:20.75578Z",
     "iopub.status.idle": "2023-03-01T15:53:21.014734Z",
     "shell.execute_reply": "2023-03-01T15:53:21.013595Z",
     "shell.execute_reply.started": "2023-03-01T15:53:20.756265Z"
    }
   },
   "outputs": [
    {
     "data": {
      "image/png": "[encoded data removed]",
      "text/plain": [
       "<Figure size 432x288 with 1 Axes>"
      ]
     },
     "metadata": {
      "needs_background": "light"
     },
     "output_type": "display_data"
    }
   ],
   "source": [
    "sns.countplot(df.airline_sentiment);"
   ]
  },
  {
   "cell_type": "markdown",
   "metadata": {},
   "source": [
    "This code snippet uses the Keras Tokenizer and pad_sequences functions to preprocess text data. Specifically, it tokenizes the text data by splitting the text into individual words and then maps these words to integers. The maximum number of unique words to be considered is set to 4000 using the max_features parameter of the Tokenizer function.\n",
    "\n",
    "After the text is tokenized, the pad_sequences function is used to ensure that all sequences have the same length by adding padding to the beginning or end of the sequences as needed. The resulting X variable is a two-dimensional numpy array where each row represents a sequence of integers corresponding to the words in the original text.\n",
    "\n",
    "Overall, this code prepares the text data for use in a machine learning model by converting it into a format that can be easily processed by the model."
   ]
  },
  {
   "cell_type": "code",
   "execution_count": 10,
   "metadata": {
    "execution": {
     "iopub.execute_input": "2023-03-01T15:53:21.017106Z",
     "iopub.status.busy": "2023-03-01T15:53:21.016504Z",
     "iopub.status.idle": "2023-03-01T15:53:21.410534Z",
     "shell.execute_reply": "2023-03-01T15:53:21.409799Z",
     "shell.execute_reply.started": "2023-03-01T15:53:21.017049Z"
    }
   },
   "outputs": [
    {
     "data": {
      "text/plain": [
       "array(['positive', 'positive', 'positive', ..., 'positive', 'negative',\n",
       "       'negative'], dtype=object)"
      ]
     },
     "execution_count": 10,
     "metadata": {},
     "output_type": "execute_result"
    }
   ],
   "source": [
    "max_fatures = 4000\n",
    "tokenizer = Tokenizer(num_words = max_fatures, split=' ')\n",
    "tokenizer.fit_on_texts(df['text'].values)\n",
    "X = tokenizer.texts_to_sequences(df['text'].values)\n",
    "X = pad_sequences(X)\n",
    "Y = df['airline_sentiment']\n",
    "L = Y.values\n",
    "X\n",
    "L"
   ]
  },
  {
   "cell_type": "code",
   "execution_count": 11,
   "metadata": {
    "execution": {
     "iopub.execute_input": "2023-03-01T15:53:21.412378Z",
     "iopub.status.busy": "2023-03-01T15:53:21.412092Z",
     "iopub.status.idle": "2023-03-01T15:53:21.419841Z",
     "shell.execute_reply": "2023-03-01T15:53:21.418857Z",
     "shell.execute_reply.started": "2023-03-01T15:53:21.412332Z"
    }
   },
   "outputs": [],
   "source": [
    "k = []\n",
    "for i in range(6541):\n",
    "    if L[i]==\"negative\":\n",
    "                        k.append(0)\n",
    "    elif L[i]==\"positive\":\n",
    "                        k.append(1)\n"
   ]
  },
  {
   "cell_type": "markdown",
   "metadata": {},
   "source": [
    "**Train Test Split**"
   ]
  },
  {
   "cell_type": "code",
   "execution_count": 12,
   "metadata": {
    "execution": {
     "iopub.execute_input": "2023-03-01T15:53:21.422068Z",
     "iopub.status.busy": "2023-03-01T15:53:21.421468Z",
     "iopub.status.idle": "2023-03-01T15:53:21.43659Z",
     "shell.execute_reply": "2023-03-01T15:53:21.435828Z",
     "shell.execute_reply.started": "2023-03-01T15:53:21.421863Z"
    }
   },
   "outputs": [],
   "source": [
    "X_train, X_test, Y_train, Y_test = train_test_split(X, k, \n",
    "                                                    test_size=0.3, \n",
    "                                                    shuffle = True,\n",
    "                                                    stratify = k,\n",
    "                                                    random_state = 1 )"
   ]
  },
  {
   "cell_type": "markdown",
   "metadata": {},
   "source": [
    "# Defining the Model"
   ]
  },
  {
   "cell_type": "code",
   "execution_count": 13,
   "metadata": {
    "execution": {
     "iopub.execute_input": "2023-03-01T15:53:21.438762Z",
     "iopub.status.busy": "2023-03-01T15:53:21.438301Z",
     "iopub.status.idle": "2023-03-01T15:53:22.077593Z",
     "shell.execute_reply": "2023-03-01T15:53:22.076743Z",
     "shell.execute_reply.started": "2023-03-01T15:53:21.438561Z"
    }
   },
   "outputs": [],
   "source": [
    "embed_dim = 128\n",
    "lstm_out = 196\n",
    "model = tf.keras.models.Sequential()\n",
    "model.add(tf.keras.layers.Embedding(max_fatures, 128, input_length=X_train.shape[1]))\n",
    "model.add(tf.keras.layers.SpatialDropout1D(0.5))\n",
    "model.add(tf.keras.layers.LSTM(196, dropout = 0.3, recurrent_dropout = 0.3 ))\n",
    "model.add(tf.keras.layers.Dropout(0.2))\n",
    "model.add(tf.keras.layers.Dense(100, activation = tf.nn.relu))\n",
    "model.add(tf.keras.layers.Dropout(0.4))\n",
    "model.add(tf.keras.layers.Dense(2, activation = tf.nn.softmax))"
   ]
  },
  {
   "cell_type": "code",
   "execution_count": 14,
   "metadata": {
    "execution": {
     "iopub.execute_input": "2023-03-01T15:53:22.082562Z",
     "iopub.status.busy": "2023-03-01T15:53:22.082263Z",
     "iopub.status.idle": "2023-03-01T15:53:22.161143Z",
     "shell.execute_reply": "2023-03-01T15:53:22.160411Z",
     "shell.execute_reply.started": "2023-03-01T15:53:22.082506Z"
    }
   },
   "outputs": [],
   "source": [
    "model.compile(optimizer=\"adam\", loss=\"sparse_categorical_crossentropy\", metrics=[\"accuracy\"])"
   ]
  },
  {
   "cell_type": "markdown",
   "metadata": {},
   "source": [
    "# Training the Model"
   ]
  },
  {
   "cell_type": "code",
   "execution_count": 15,
   "metadata": {
    "execution": {
     "iopub.execute_input": "2023-03-01T15:53:22.167579Z",
     "iopub.status.busy": "2023-03-01T15:53:22.165485Z",
     "iopub.status.idle": "2023-03-01T15:55:48.982776Z",
     "shell.execute_reply": "2023-03-01T15:55:48.981737Z",
     "shell.execute_reply.started": "2023-03-01T15:53:22.167524Z"
    }
   },
   "outputs": [
    {
     "name": "stdout",
     "output_type": "stream",
     "text": [
      "Train on 3662 samples, validate on 916 samples\n",
      "Epoch 1/20\n",
      "3662/3662 - 12s - loss: 0.4955 - acc: 0.7657 - val_loss: 0.2949 - val_acc: 0.8788\n",
      "Epoch 2/20\n",
      "3662/3662 - 10s - loss: 0.2424 - acc: 0.9042 - val_loss: 0.2186 - val_acc: 0.9148\n",
      "Epoch 3/20\n",
      "3662/3662 - 11s - loss: 0.1598 - acc: 0.9402 - val_loss: 0.2405 - val_acc: 0.9039\n",
      "Epoch 4/20\n",
      "3662/3662 - 12s - loss: 0.1273 - acc: 0.9555 - val_loss: 0.2357 - val_acc: 0.9105\n",
      "Epoch 5/20\n",
      "3662/3662 - 11s - loss: 0.0768 - acc: 0.9716 - val_loss: 0.2648 - val_acc: 0.9181\n",
      "Epoch 6/20\n",
      "3662/3662 - 10s - loss: 0.0692 - acc: 0.9776 - val_loss: 0.2838 - val_acc: 0.8974\n",
      "Epoch 7/20\n",
      "3662/3662 - 11s - loss: 0.0572 - acc: 0.9784 - val_loss: 0.2922 - val_acc: 0.9105\n",
      "Epoch 8/20\n",
      "3662/3662 - 11s - loss: 0.0568 - acc: 0.9814 - val_loss: 0.3205 - val_acc: 0.8876\n",
      "Epoch 9/20\n",
      "3662/3662 - 10s - loss: 0.0470 - acc: 0.9866 - val_loss: 0.2942 - val_acc: 0.9159\n",
      "Epoch 10/20\n",
      "3662/3662 - 11s - loss: 0.0288 - acc: 0.9902 - val_loss: 0.3856 - val_acc: 0.9203\n",
      "Epoch 11/20\n",
      "3662/3662 - 11s - loss: 0.0323 - acc: 0.9888 - val_loss: 0.3835 - val_acc: 0.8777\n",
      "Epoch 12/20\n",
      "3662/3662 - 11s - loss: 0.0277 - acc: 0.9926 - val_loss: 0.3632 - val_acc: 0.9148\n",
      "Epoch 13/20\n",
      "3662/3662 - 12s - loss: 0.0200 - acc: 0.9940 - val_loss: 0.3907 - val_acc: 0.9094\n",
      "Epoch 14/20\n",
      "3662/3662 - 10s - loss: 0.0175 - acc: 0.9932 - val_loss: 0.4605 - val_acc: 0.8919\n",
      "Epoch 15/20\n",
      "3662/3662 - 10s - loss: 0.0199 - acc: 0.9940 - val_loss: 0.5612 - val_acc: 0.9116\n",
      "Epoch 16/20\n",
      "3662/3662 - 11s - loss: 0.0156 - acc: 0.9940 - val_loss: 0.5555 - val_acc: 0.9017\n",
      "Epoch 17/20\n",
      "3662/3662 - 10s - loss: 0.0107 - acc: 0.9959 - val_loss: 0.5685 - val_acc: 0.9039\n",
      "Epoch 18/20\n",
      "3662/3662 - 10s - loss: 0.0131 - acc: 0.9954 - val_loss: 0.5738 - val_acc: 0.9094\n",
      "Epoch 19/20\n",
      "3662/3662 - 11s - loss: 0.0058 - acc: 0.9986 - val_loss: 0.6489 - val_acc: 0.9127\n",
      "Epoch 20/20\n",
      "3662/3662 - 10s - loss: 0.0113 - acc: 0.9965 - val_loss: 0.5439 - val_acc: 0.9181\n"
     ]
    }
   ],
   "source": [
    "Model = model.fit(X_train,\n",
    "                         Y_train,\n",
    "                         epochs=20,\n",
    "                         batch_size=32,\n",
    "                         validation_split = 0.2,\n",
    "                         verbose = 2)"
   ]
  },
  {
   "cell_type": "code",
   "execution_count": 16,
   "metadata": {
    "execution": {
     "iopub.execute_input": "2023-03-01T15:55:48.984772Z",
     "iopub.status.busy": "2023-03-01T15:55:48.984414Z",
     "iopub.status.idle": "2023-03-01T15:55:50.245464Z",
     "shell.execute_reply": "2023-03-01T15:55:50.244418Z",
     "shell.execute_reply.started": "2023-03-01T15:55:48.984717Z"
    }
   },
   "outputs": [
    {
     "name": "stdout",
     "output_type": "stream",
     "text": [
      "loss =  0.6336628965738358\n",
      "accuracy =  0.9057565\n"
     ]
    }
   ],
   "source": [
    "score = model.evaluate(X_test, Y_test, verbose=False)\n",
    "print(\"loss = \",score[0])\n",
    "print(\"accuracy = \",score[1])"
   ]
  },
  {
   "cell_type": "markdown",
   "metadata": {},
   "source": [
    "**Plottiing the confusion matrix**"
   ]
  },
  {
   "cell_type": "code",
   "execution_count": 17,
   "metadata": {
    "execution": {
     "iopub.execute_input": "2023-03-01T15:55:50.247958Z",
     "iopub.status.busy": "2023-03-01T15:55:50.247633Z",
     "iopub.status.idle": "2023-03-01T15:55:52.013768Z",
     "shell.execute_reply": "2023-03-01T15:55:52.012641Z",
     "shell.execute_reply.started": "2023-03-01T15:55:50.247907Z"
    }
   },
   "outputs": [
    {
     "data": {
      "image/png": "[encoded data removed]",
      "text/plain": [
       "<Figure size 432x288 with 2 Axes>"
      ]
     },
     "metadata": {
      "needs_background": "light"
     },
     "output_type": "display_data"
    }
   ],
   "source": [
    "def plot_confusion_matrix(cm, classes,\n",
    "                          normalize=False,\n",
    "                          title='Confusion matrix',\n",
    "                          cmap=plt.cm.Blues):\n",
    "    plt.imshow(cm, interpolation='nearest', cmap=cmap)\n",
    "    plt.title(title)\n",
    "    plt.colorbar()\n",
    "    tick_marks = np.arange(len(classes))\n",
    "    plt.xticks(tick_marks, classes, rotation=45)\n",
    "    plt.yticks(tick_marks, classes)\n",
    "    if normalize:\n",
    "        cm = cm.astype('float') / cm.sum(axis=1)[:, np.newaxis]\n",
    "\n",
    "    thresh = cm.max() / 2.\n",
    "    for i, j in itertools.product(range(cm.shape[0]), range(cm.shape[1])):\n",
    "        plt.text(j, i, cm[i, j],\n",
    "                 horizontalalignment=\"center\",\n",
    "                 color=\"white\" if cm[i, j] > thresh else \"black\")\n",
    "\n",
    "    plt.tight_layout()\n",
    "    plt.ylabel('True label')\n",
    "    plt.xlabel('Predicted label')\n",
    "\n",
    "y_pred = model.predict(X_test)\n",
    "y_pred_classes = np.argmax(y_pred,axis = 1) \n",
    "confusion_mtx = confusion_matrix(Y_test, y_pred_classes) \n",
    "plot_confusion_matrix(confusion_mtx, classes = range(2)) "
   ]
  },
  {
   "cell_type": "markdown",
   "metadata": {},
   "source": [
    "# Model Test"
   ]
  },
  {
   "cell_type": "code",
   "execution_count": 18,
   "metadata": {
    "execution": {
     "iopub.execute_input": "2023-03-01T15:55:52.023947Z",
     "iopub.status.busy": "2023-03-01T15:55:52.020432Z",
     "iopub.status.idle": "2023-03-01T15:55:52.08716Z",
     "shell.execute_reply": "2023-03-01T15:55:52.085865Z",
     "shell.execute_reply.started": "2023-03-01T15:55:52.023844Z"
    }
   },
   "outputs": [
    {
     "name": "stdout",
     "output_type": "stream",
     "text": [
      "[[   0    0    0    0    0    0    0    0    0    0    0    0    0    0\n",
      "     0    0    0    0    0    0    0    0    0    0    0 2030  237  147\n",
      "    11   40 2049]]\n",
      "1/1 - 0s\n",
      "negative\n"
     ]
    }
   ],
   "source": [
    "sample = ['Meetings: Air crew is so dumb.']\n",
    "sample = tokenizer.texts_to_sequences(sample)\n",
    "sample = pad_sequences(sample, maxlen=31, dtype='int32', value=0)\n",
    "print(sample)\n",
    "sentiment = model.predict(sample,batch_size=1,verbose = 2)[0]\n",
    "if(np.argmax(sentiment) == 0):\n",
    "    print(\"negative\")\n",
    "elif (np.argmax(sentiment) == 1):\n",
    "    print(\"positive\")"
   ]
  }
 ],
 "metadata": {
  "kaggle": {
   "accelerator": "nvidiaTeslaT4",
   "dataSources": [
    {
     "datasetId": 17,
     "sourceId": 742210,
     "sourceType": "datasetVersion"
    }
   ],
   "dockerImageVersionId": 29186,
   "isGpuEnabled": true,
   "isInternetEnabled": false,
   "language": "python",
   "sourceType": "notebook"
  },
  "kernelspec": {
   "display_name": "Python 3",
   "language": "python",
   "name": "python3"
  },
  "language_info": {
   "codemirror_mode": {
    "name": "ipython",
    "version": 3
   },
   "file_extension": ".py",
   "mimetype": "text/x-python",
   "name": "python",
   "nbconvert_exporter": "python",
   "pygments_lexer": "ipython3",
   "version": "3.6.6"
  }
 },
 "nbformat": 4,
 "nbformat_minor": 4
}
